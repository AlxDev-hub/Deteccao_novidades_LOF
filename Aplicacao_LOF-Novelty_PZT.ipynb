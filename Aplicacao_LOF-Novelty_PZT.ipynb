{
 "cells": [
  {
   "cell_type": "markdown",
   "id": "22fa79e1",
   "metadata": {},
   "source": [
    "# Detecção de anomalia utilizando LOF-Novelty"
   ]
  },
  {
   "cell_type": "code",
   "execution_count": 2,
   "id": "3450c6f7",
   "metadata": {},
   "outputs": [],
   "source": [
    "#Bibliotecas utilizadas\n",
    "import numpy as np\n",
    "import matplotlib\n",
    "import matplotlib.pyplot as plt\n",
    "import pandas as pd\n",
    "from sklearn.neighbors import LocalOutlierFactor\n",
    "from sklearn.decomposition import PCA"
   ]
  },
  {
   "cell_type": "code",
   "execution_count": null,
   "id": "f9ecb4b0",
   "metadata": {},
   "outputs": [],
   "source": [
    "#Carregar banco de dados\n",
    "dataset = pd.read_excel(\"Amostra-PZT.xlsx\", header=None)\n",
    "\n",
    "display(dataset)"
   ]
  },
  {
   "cell_type": "code",
   "execution_count": null,
   "id": "a2a288d7",
   "metadata": {},
   "outputs": [],
   "source": [
    "#Tratamento dos dados - Transpor\n",
    "data = dataset.T\n",
    "\n",
    "display(data)"
   ]
  },
  {
   "cell_type": "code",
   "execution_count": null,
   "id": "d3935ba5",
   "metadata": {},
   "outputs": [],
   "source": [
    "#Tratamento dos dados - Remover linha da frequencia\n",
    "new_data = data.drop([0], axis=0)\n",
    "\n",
    "display(new_data)"
   ]
  },
  {
   "cell_type": "code",
   "execution_count": null,
   "id": "38dc15ae",
   "metadata": {},
   "outputs": [],
   "source": [
    "#Tratamento dos dados - Mudar o indice para a coluna 0\n",
    "\n",
    "#Converter a coluna 0 de Float para Int\n",
    "new_data[0] = new_data[0].astype(int)\n",
    "\n",
    "new_dataset = new_data.set_index(0)\n",
    "new_dataset.index.names = [None]\n",
    "\n",
    "display(new_dataset)"
   ]
  },
  {
   "cell_type": "code",
   "execution_count": null,
   "id": "611f7cdf",
   "metadata": {},
   "outputs": [],
   "source": [
    "#Gerar observações de treinamento normais\n",
    "X_train = new_dataset.drop([17, 77, 137, 197, 257, 317, 332, 662, 992, 1322, 1652, 1982, 2312, 2642], axis=0)\n",
    "\n",
    "display(X_train)"
   ]
  },
  {
   "cell_type": "code",
   "execution_count": 8,
   "id": "7ac0fe91",
   "metadata": {},
   "outputs": [
    {
     "data": {
      "text/html": [
       "<div>\n",
       "<style scoped>\n",
       "    .dataframe tbody tr th:only-of-type {\n",
       "        vertical-align: middle;\n",
       "    }\n",
       "\n",
       "    .dataframe tbody tr th {\n",
       "        vertical-align: top;\n",
       "    }\n",
       "\n",
       "    .dataframe thead th {\n",
       "        text-align: right;\n",
       "    }\n",
       "</style>\n",
       "<table border=\"1\" class=\"dataframe\">\n",
       "  <thead>\n",
       "    <tr style=\"text-align: right;\">\n",
       "      <th></th>\n",
       "      <th>0</th>\n",
       "      <th>1</th>\n",
       "    </tr>\n",
       "  </thead>\n",
       "  <tbody>\n",
       "    <tr>\n",
       "      <th>0</th>\n",
       "      <td>55.854353</td>\n",
       "      <td>27.526157</td>\n",
       "    </tr>\n",
       "    <tr>\n",
       "      <th>1</th>\n",
       "      <td>84.590791</td>\n",
       "      <td>-20.426608</td>\n",
       "    </tr>\n",
       "    <tr>\n",
       "      <th>2</th>\n",
       "      <td>-35.971417</td>\n",
       "      <td>11.090550</td>\n",
       "    </tr>\n",
       "    <tr>\n",
       "      <th>3</th>\n",
       "      <td>-40.940874</td>\n",
       "      <td>-25.065480</td>\n",
       "    </tr>\n",
       "    <tr>\n",
       "      <th>4</th>\n",
       "      <td>-63.532854</td>\n",
       "      <td>6.875381</td>\n",
       "    </tr>\n",
       "  </tbody>\n",
       "</table>\n",
       "</div>"
      ],
      "text/plain": [
       "           0          1\n",
       "0  55.854353  27.526157\n",
       "1  84.590791 -20.426608\n",
       "2 -35.971417  11.090550\n",
       "3 -40.940874 -25.065480\n",
       "4 -63.532854   6.875381"
      ]
     },
     "metadata": {},
     "output_type": "display_data"
    }
   ],
   "source": [
    "#Aplicando PCA em X_train\n",
    "pca = PCA(n_components=2)\n",
    "principalComponents_X_train = pca.fit_transform(X_train)\n",
    "principalDf_X_train = pd.DataFrame(data= principalComponents_X_train)\n",
    "\n",
    "display(principalDf_X_train)"
   ]
  },
  {
   "cell_type": "code",
   "execution_count": null,
   "id": "947baafa",
   "metadata": {},
   "outputs": [],
   "source": [
    "#Gerar novas observações normais\n",
    "X_test = new_dataset.drop([2, 3, 4, 5, 6, 332, 662, 992, 1322, 1652, 1982, 2312, 2642], axis=0)\n",
    "\n",
    "display(X_test)"
   ]
  },
  {
   "cell_type": "code",
   "execution_count": 10,
   "id": "2f895fee",
   "metadata": {},
   "outputs": [
    {
     "data": {
      "text/html": [
       "<div>\n",
       "<style scoped>\n",
       "    .dataframe tbody tr th:only-of-type {\n",
       "        vertical-align: middle;\n",
       "    }\n",
       "\n",
       "    .dataframe tbody tr th {\n",
       "        vertical-align: top;\n",
       "    }\n",
       "\n",
       "    .dataframe thead th {\n",
       "        text-align: right;\n",
       "    }\n",
       "</style>\n",
       "<table border=\"1\" class=\"dataframe\">\n",
       "  <thead>\n",
       "    <tr style=\"text-align: right;\">\n",
       "      <th></th>\n",
       "      <th>0</th>\n",
       "      <th>1</th>\n",
       "    </tr>\n",
       "  </thead>\n",
       "  <tbody>\n",
       "    <tr>\n",
       "      <th>0</th>\n",
       "      <td>-4261.866340</td>\n",
       "      <td>-2545.780768</td>\n",
       "    </tr>\n",
       "    <tr>\n",
       "      <th>1</th>\n",
       "      <td>-3835.522788</td>\n",
       "      <td>-1134.520556</td>\n",
       "    </tr>\n",
       "    <tr>\n",
       "      <th>2</th>\n",
       "      <td>-2372.964065</td>\n",
       "      <td>1662.581841</td>\n",
       "    </tr>\n",
       "    <tr>\n",
       "      <th>3</th>\n",
       "      <td>705.642581</td>\n",
       "      <td>4228.467197</td>\n",
       "    </tr>\n",
       "    <tr>\n",
       "      <th>4</th>\n",
       "      <td>4162.897112</td>\n",
       "      <td>1289.581502</td>\n",
       "    </tr>\n",
       "    <tr>\n",
       "      <th>5</th>\n",
       "      <td>5601.813499</td>\n",
       "      <td>-3500.329217</td>\n",
       "    </tr>\n",
       "  </tbody>\n",
       "</table>\n",
       "</div>"
      ],
      "text/plain": [
       "             0            1\n",
       "0 -4261.866340 -2545.780768\n",
       "1 -3835.522788 -1134.520556\n",
       "2 -2372.964065  1662.581841\n",
       "3   705.642581  4228.467197\n",
       "4  4162.897112  1289.581502\n",
       "5  5601.813499 -3500.329217"
      ]
     },
     "metadata": {},
     "output_type": "display_data"
    }
   ],
   "source": [
    "#Aplicando PCA em X_test\n",
    "pca_test = PCA(n_components=2)\n",
    "principalComponents_X_test = pca_test.fit_transform(X_test)\n",
    "principalDf_X_test = pd.DataFrame(data= principalComponents_X_test)\n",
    "\n",
    "display(principalDf_X_test)"
   ]
  },
  {
   "cell_type": "code",
   "execution_count": null,
   "id": "af9c5e54",
   "metadata": {},
   "outputs": [],
   "source": [
    "#Gerar algumas observações novas anormais\n",
    "X_outliers = new_dataset.drop([2, 3, 4, 5, 6, 17, 77, 137, 197, 257, 317], axis=0)\n",
    "\n",
    "display(X_outliers)"
   ]
  },
  {
   "cell_type": "code",
   "execution_count": 12,
   "id": "7b52a5b5",
   "metadata": {},
   "outputs": [
    {
     "data": {
      "text/html": [
       "<div>\n",
       "<style scoped>\n",
       "    .dataframe tbody tr th:only-of-type {\n",
       "        vertical-align: middle;\n",
       "    }\n",
       "\n",
       "    .dataframe tbody tr th {\n",
       "        vertical-align: top;\n",
       "    }\n",
       "\n",
       "    .dataframe thead th {\n",
       "        text-align: right;\n",
       "    }\n",
       "</style>\n",
       "<table border=\"1\" class=\"dataframe\">\n",
       "  <thead>\n",
       "    <tr style=\"text-align: right;\">\n",
       "      <th></th>\n",
       "      <th>0</th>\n",
       "      <th>1</th>\n",
       "    </tr>\n",
       "  </thead>\n",
       "  <tbody>\n",
       "    <tr>\n",
       "      <th>0</th>\n",
       "      <td>-2700.589015</td>\n",
       "      <td>-903.925375</td>\n",
       "    </tr>\n",
       "    <tr>\n",
       "      <th>1</th>\n",
       "      <td>-2578.091555</td>\n",
       "      <td>-1219.470951</td>\n",
       "    </tr>\n",
       "    <tr>\n",
       "      <th>2</th>\n",
       "      <td>-2673.447895</td>\n",
       "      <td>-1084.106227</td>\n",
       "    </tr>\n",
       "    <tr>\n",
       "      <th>3</th>\n",
       "      <td>-2739.533291</td>\n",
       "      <td>-660.444472</td>\n",
       "    </tr>\n",
       "    <tr>\n",
       "      <th>4</th>\n",
       "      <td>-2649.065597</td>\n",
       "      <td>-61.735421</td>\n",
       "    </tr>\n",
       "    <tr>\n",
       "      <th>5</th>\n",
       "      <td>18220.566983</td>\n",
       "      <td>-43.481825</td>\n",
       "    </tr>\n",
       "    <tr>\n",
       "      <th>6</th>\n",
       "      <td>-2512.226962</td>\n",
       "      <td>1777.234026</td>\n",
       "    </tr>\n",
       "    <tr>\n",
       "      <th>7</th>\n",
       "      <td>-2367.612667</td>\n",
       "      <td>2195.930245</td>\n",
       "    </tr>\n",
       "  </tbody>\n",
       "</table>\n",
       "</div>"
      ],
      "text/plain": [
       "              0            1\n",
       "0  -2700.589015  -903.925375\n",
       "1  -2578.091555 -1219.470951\n",
       "2  -2673.447895 -1084.106227\n",
       "3  -2739.533291  -660.444472\n",
       "4  -2649.065597   -61.735421\n",
       "5  18220.566983   -43.481825\n",
       "6  -2512.226962  1777.234026\n",
       "7  -2367.612667  2195.930245"
      ]
     },
     "metadata": {},
     "output_type": "display_data"
    }
   ],
   "source": [
    "#Aplicando PCA em X_outliers\n",
    "pca_outliers = PCA(n_components=2)\n",
    "principalComponents_X_outliers = pca_test.fit_transform(X_outliers)\n",
    "principalDf_X_outliers = pd.DataFrame(data= principalComponents_X_outliers)\n",
    "\n",
    "display(principalDf_X_outliers)"
   ]
  },
  {
   "cell_type": "code",
   "execution_count": 13,
   "id": "fffa70b0",
   "metadata": {},
   "outputs": [
    {
     "data": {
      "text/plain": [
       "LocalOutlierFactor(contamination=0.1, n_neighbors=4, novelty=True)"
      ]
     },
     "execution_count": 13,
     "metadata": {},
     "output_type": "execute_result"
    }
   ],
   "source": [
    "#Ajustar o modelo para detecção de novidade (novelty = True)\n",
    "clf = LocalOutlierFactor(n_neighbors=4, novelty=True, contamination=0.1)\n",
    "clf.fit(principalDf_X_train)"
   ]
  },
  {
   "cell_type": "code",
   "execution_count": 19,
   "id": "85223d66",
   "metadata": {},
   "outputs": [],
   "source": [
    "#Predicao dos dados X_test e X_outliers\n",
    "y_pred_test = clf.predict(principalDf_X_test)\n",
    "y_pred_outliers = clf.predict(principalDf_X_outliers)\n",
    "\n",
    "#Numero de erros dos dados\n",
    "n_error_test = y_pred_test[y_pred_test == -1].size\n",
    "n_error_outliers = y_pred_outliers[y_pred_outliers == 1].size"
   ]
  },
  {
   "cell_type": "code",
   "execution_count": 25,
   "id": "a65f22a9",
   "metadata": {},
   "outputs": [
    {
     "data": {
      "text/plain": [
       "Text(0.5, 0, 'Erros novidade regular: 6 ; Erros novidade anormal: 0')"
      ]
     },
     "execution_count": 25,
     "metadata": {},
     "output_type": "execute_result"
    },
    {
     "data": {
      "image/png": "[encoded data removed]",
      "text/plain": [
       "<Figure size 1080x720 with 1 Axes>"
      ]
     },
     "metadata": {
      "needs_background": "light"
     },
     "output_type": "display_data"
    }
   ],
   "source": [
    "#Grafico\n",
    "xx, yy = np.meshgrid(np.linspace(-10000, 19000, 500), np.linspace(-10000, 19000, 500))\n",
    "\n",
    "Z = clf.decision_function(np.c_[xx.ravel(), yy.ravel()])\n",
    "Z = Z.reshape(xx.shape)\n",
    "\n",
    "plt.figure(figsize=(15,10))\n",
    "plt.title(\"Detecção de novidades com LOF\")\n",
    "plt.contourf(xx, yy, Z, levels=np.linspace(Z.min(), 0, 7), cmap=plt.cm.PuBu)\n",
    "a = plt.contour(xx, yy, Z, levels=[0], linewidths=2, colors=\"darkred\")\n",
    "plt.contourf(xx, yy, Z, levels=[0, Z.max()], colors=\"palevioletred\")\n",
    "\n",
    "s = 40\n",
    "b1 = plt.scatter(principalDf_X_train[0], principalDf_X_train[1], c=\"white\", s=s, edgecolors=\"k\")\n",
    "b2 = plt.scatter(principalDf_X_test[0], principalDf_X_test[1], c=\"blueviolet\", s=s, edgecolors=\"k\")\n",
    "c = plt.scatter(principalDf_X_outliers[0], principalDf_X_outliers[1], c=\"gold\", s=s, edgecolors=\"k\")\n",
    "plt.axis(\"tight\")\n",
    "plt.xlim((-10000, 19000))\n",
    "plt.ylim((-10000, 10000))\n",
    "\n",
    "plt.legend(\n",
    "    [a.collections[0], b1, b2, c],\n",
    "    [\n",
    "        \"Fronteira aprendida\",\n",
    "        \"Observações de treinamento\",\n",
    "        \"Novas observações regulares\",\n",
    "        \"Novas observações anormais\",\n",
    "    ],\n",
    "    loc=\"upper left\",\n",
    "    prop=matplotlib.font_manager.FontProperties(size=11),\n",
    ")\n",
    "\n",
    "plt.xlabel(\n",
    "    \"Erros novidade regular: %d ; Erros novidade anormal: %d\"\n",
    "    % (n_error_test, n_error_outliers)\n",
    ")"
   ]
  },
  {
   "cell_type": "code",
   "execution_count": null,
   "id": "4b6a0b00",
   "metadata": {},
   "outputs": [],
   "source": []
  }
 ],
 "metadata": {
  "kernelspec": {
   "display_name": "Python 3 (ipykernel)",
   "language": "python",
   "name": "python3"
  },
  "language_info": {
   "codemirror_mode": {
    "name": "ipython",
    "version": 3
   },
   "file_extension": ".py",
   "mimetype": "text/x-python",
   "name": "python",
   "nbconvert_exporter": "python",
   "pygments_lexer": "ipython3",
   "version": "3.9.12"
  }
 },
 "nbformat": 4,
 "nbformat_minor": 5
}
